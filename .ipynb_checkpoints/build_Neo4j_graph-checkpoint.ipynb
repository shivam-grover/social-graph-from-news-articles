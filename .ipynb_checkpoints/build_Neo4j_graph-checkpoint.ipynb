{
 "cells": [
  {
   "cell_type": "code",
   "execution_count": 3,
   "id": "d29811dc-fbd7-442a-b107-e374fdfefe7b",
   "metadata": {},
   "outputs": [
    {
     "name": "stdout",
     "output_type": "stream",
     "text": [
      "Collecting neo4j\n",
      "  Downloading neo4j-5.28.1-py3-none-any.whl.metadata (5.9 kB)\n",
      "Requirement already satisfied: pytz in ./trc/lib/python3.11/site-packages (from neo4j) (2025.2)\n",
      "Downloading neo4j-5.28.1-py3-none-any.whl (312 kB)\n",
      "Installing collected packages: neo4j\n",
      "Successfully installed neo4j-5.28.1\n"
     ]
    }
   ],
   "source": [
    "!pip install neo4j"
   ]
  },
  {
   "cell_type": "code",
   "execution_count": 9,
   "id": "9e4e7c71-4a55-4682-9745-400e89326f03",
   "metadata": {},
   "outputs": [],
   "source": [
    "from elasticsearch import Elasticsearch\n",
    "import pandas as pd\n",
    "from collections import Counter\n",
    "from itertools import product\n",
    "from itertools import combinations\n",
    "\n",
    "es = Elasticsearch(\"http://localhost:9200\")\n",
    "ES_INDEX = \"efc_articles_1\"\n",
    "\n",
    "# Fetch all docs (or scroll for >10000)\n",
    "def fetch_all_articles(index):\n",
    "    docs = []\n",
    "    resp = es.search(index=index, size=1000, query={\"match_all\": {}})\n",
    "    docs.extend(hit[\"_source\"] for hit in resp[\"hits\"][\"hits\"])\n",
    "    return docs\n",
    "\n",
    "articles = fetch_all_articles(ES_INDEX)"
   ]
  },
  {
   "cell_type": "code",
   "execution_count": 12,
   "id": "ff72fd4f-023f-4250-a247-f33ddac8a5bf",
   "metadata": {},
   "outputs": [
    {
     "name": "stderr",
     "output_type": "stream",
     "text": [
      "/tmp/ipykernel_146262/2775970099.py:52: DeprecationWarning: write_transaction has been renamed to execute_write\n",
      "  session.write_transaction(create_person, name, count)\n",
      "/tmp/ipykernel_146262/2775970099.py:54: DeprecationWarning: write_transaction has been renamed to execute_write\n",
      "  session.write_transaction(create_org, name, count)\n",
      "/tmp/ipykernel_146262/2775970099.py:62: DeprecationWarning: write_transaction has been renamed to execute_write\n",
      "  session.write_transaction(create_mentions, p1, p2)\n",
      "/tmp/ipykernel_146262/2775970099.py:66: DeprecationWarning: write_transaction has been renamed to execute_write\n",
      "  session.write_transaction(create_association, p, o)\n"
     ]
    }
   ],
   "source": [
    "from neo4j import GraphDatabase\n",
    "from collections import Counter\n",
    "from itertools import combinations\n",
    "\n",
    "# Replace with your own data\n",
    "driver = GraphDatabase.driver(\"bolt://localhost:7687\", auth=(\"neo4j\", \"password\"))\n",
    "\n",
    "def create_person(tx, name, count):\n",
    "    tx.run(\"MERGE (p:Person {name: $name}) \"\n",
    "           \"ON CREATE SET p.count = $count\", name=name, count=count)\n",
    "\n",
    "def create_org(tx, name, count):\n",
    "    tx.run(\"MERGE (o:Organization {name: $name}) \"\n",
    "           \"ON CREATE SET o.count = $count\", name=name, count=count)\n",
    "\n",
    "def create_mentions(tx, p1, p2):\n",
    "    tx.run(\"\"\"\n",
    "        MATCH (a:Person {name: $p1}), (b:Person {name: $p2})\n",
    "        MERGE (a)-[r:MENTIONS]-(b)\n",
    "        ON CREATE SET r.count = 1\n",
    "        ON MATCH SET r.count = r.count + 1\n",
    "    \"\"\", p1=p1, p2=p2)\n",
    "\n",
    "def create_association(tx, person, org):\n",
    "    tx.run(\"\"\"\n",
    "        MATCH (p:Person {name: $person}), (o:Organization {name: $org})\n",
    "        MERGE (p)-[r:ASSOCIATED_WITH]->(o)\n",
    "        ON CREATE SET r.count = 1\n",
    "        ON MATCH SET r.count = r.count + 1\n",
    "    \"\"\", person=person, org=org)\n",
    "\n",
    "# Build counters\n",
    "person_counter = Counter()\n",
    "org_counter = Counter()\n",
    "\n",
    "def clean_people(people_list):\n",
    "    return [p for p in people_list if not p.startswith(\"@\") and len(p) > 1]\n",
    "\n",
    "for doc in articles:\n",
    "    if \"entities\" in doc and \"people\" in doc[\"entities\"]:\n",
    "        doc[\"entities\"][\"people\"] = clean_people(doc[\"entities\"][\"people\"])\n",
    "    ents = doc.get(\"entities\", {})\n",
    "    people = ents.get(\"people\", [])\n",
    "    orgs = ents.get(\"orgs\", [])\n",
    "    person_counter.update(people)\n",
    "    org_counter.update(orgs)\n",
    "\n",
    "# Load data\n",
    "with driver.session() as session:\n",
    "    # Create nodes\n",
    "    for name, count in person_counter.items():\n",
    "        session.write_transaction(create_person, name, count)\n",
    "    for name, count in org_counter.items():\n",
    "        session.write_transaction(create_org, name, count)\n",
    "\n",
    "    # Create relationships\n",
    "    for doc in articles:\n",
    "        people = list(set(doc.get(\"entities\", {}).get(\"people\", [])))\n",
    "        orgs = list(set(doc.get(\"entities\", {}).get(\"orgs\", [])))\n",
    "\n",
    "        for p1, p2 in combinations(people, 2):\n",
    "            session.write_transaction(create_mentions, p1, p2)\n",
    "\n",
    "        for p in people:\n",
    "            for o in orgs:\n",
    "                session.write_transaction(create_association, p, o)"
   ]
  },
  {
   "cell_type": "code",
   "execution_count": null,
   "id": "f7c60481-a577-4d14-9b2d-4e1e7a0045c6",
   "metadata": {},
   "outputs": [],
   "source": []
  },
  {
   "cell_type": "markdown",
   "id": "c8c51a44-ec04-40b1-99cf-8177e658972a",
   "metadata": {},
   "source": []
  },
  {
   "cell_type": "code",
   "execution_count": null,
   "id": "88cdad84-25d2-4b1e-b2cd-dfd1826de969",
   "metadata": {},
   "outputs": [],
   "source": []
  }
 ],
 "metadata": {
  "kernelspec": {
   "display_name": "trc",
   "language": "python",
   "name": "trc"
  },
  "language_info": {
   "codemirror_mode": {
    "name": "ipython",
    "version": 3
   },
   "file_extension": ".py",
   "mimetype": "text/x-python",
   "name": "python",
   "nbconvert_exporter": "python",
   "pygments_lexer": "ipython3",
   "version": "3.11.3"
  }
 },
 "nbformat": 4,
 "nbformat_minor": 5
}
